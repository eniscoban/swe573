{
 "cells": [
  {
   "cell_type": "code",
   "execution_count": 25,
   "metadata": {},
   "outputs": [],
   "source": [
    "import requests"
   ]
  },
  {
   "cell_type": "code",
   "execution_count": 26,
   "metadata": {},
   "outputs": [],
   "source": [
    "url = \"https://www.wikidata.org/w/api.php\"\n",
    "query = \"everest\"\n",
    "params = {\n",
    "    \"action\" : \"wbsearchentities\",\n",
    "    \"format\" : \"json\",\n",
    "    \"language\" : \"en\",\n",
    "    \"search\" : query\n",
    "}"
   ]
  },
  {
   "cell_type": "code",
   "execution_count": 30,
   "metadata": {},
   "outputs": [
    {
     "data": {
      "text/plain": [
       "{'searchinfo': {'search': 'everest'},\n",
       " 'search': [{'repository': 'local',\n",
       "   'id': 'Q513',\n",
       "   'concepturi': 'http://www.wikidata.org/entity/Q513',\n",
       "   'title': 'Q513',\n",
       "   'pageid': 772,\n",
       "   'url': '//www.wikidata.org/wiki/Q513',\n",
       "   'label': 'Mount Everest',\n",
       "   'description': \"Earth's highest mountain, part of the Himalayas between Nepal and China. Has height of about 8,848m.\",\n",
       "   'match': {'type': 'alias', 'language': 'en', 'text': 'Everest'},\n",
       "   'aliases': ['Everest']},\n",
       "  {'repository': 'local',\n",
       "   'id': 'Q15631013',\n",
       "   'concepturi': 'http://www.wikidata.org/entity/Q15631013',\n",
       "   'title': 'Q15631013',\n",
       "   'pageid': 17267061,\n",
       "   'url': '//www.wikidata.org/wiki/Q15631013',\n",
       "   'label': 'Everest',\n",
       "   'description': '2015 British/American biographical adventure film directed by Baltasar Kormákur',\n",
       "   'match': {'type': 'label', 'language': 'en', 'text': 'Everest'}},\n",
       "  {'repository': 'local',\n",
       "   'id': 'Q55087665',\n",
       "   'concepturi': 'http://www.wikidata.org/entity/Q55087665',\n",
       "   'title': 'Q55087665',\n",
       "   'pageid': 55160322,\n",
       "   'url': '//www.wikidata.org/wiki/Q55087665',\n",
       "   'label': 'Abominable',\n",
       "   'description': '2019 American-Chinese adventure film directed by Jill Culton and Todd Wilderman',\n",
       "   'match': {'type': 'alias', 'language': 'en', 'text': 'Everest'},\n",
       "   'aliases': ['Everest']},\n",
       "  {'repository': 'local',\n",
       "   'id': 'Q250831',\n",
       "   'concepturi': 'http://www.wikidata.org/entity/Q250831',\n",
       "   'title': 'Q250831',\n",
       "   'pageid': 243463,\n",
       "   'url': '//www.wikidata.org/wiki/Q250831',\n",
       "   'label': 'Everest',\n",
       "   'description': 'Wikimedia disambiguation page',\n",
       "   'match': {'type': 'label', 'language': 'en', 'text': 'Everest'}},\n",
       "  {'repository': 'local',\n",
       "   'id': 'Q1866445',\n",
       "   'concepturi': 'http://www.wikidata.org/entity/Q1866445',\n",
       "   'title': 'Q1866445',\n",
       "   'pageid': 1796792,\n",
       "   'url': '//www.wikidata.org/wiki/Q1866445',\n",
       "   'label': 'Everest',\n",
       "   'description': 'human settlement in Brown County, Kansas, United States of America',\n",
       "   'match': {'type': 'label', 'language': 'en', 'text': 'Everest'}},\n",
       "  {'repository': 'local',\n",
       "   'id': 'Q1749553',\n",
       "   'concepturi': 'http://www.wikidata.org/entity/Q1749553',\n",
       "   'title': 'Q1749553',\n",
       "   'pageid': 1682403,\n",
       "   'url': '//www.wikidata.org/wiki/Q1749553',\n",
       "   'label': 'Everest',\n",
       "   'description': '1998 film by Greg MacGillivray, Stephen Judson, David Breashears',\n",
       "   'match': {'type': 'label', 'language': 'en', 'text': 'Everest'}},\n",
       "  {'repository': 'local',\n",
       "   'id': 'Q36993006',\n",
       "   'concepturi': 'http://www.wikidata.org/entity/Q36993006',\n",
       "   'title': 'Q36993006',\n",
       "   'pageid': 38373156,\n",
       "   'url': '//www.wikidata.org/wiki/Q36993006',\n",
       "   'label': 'Everest',\n",
       "   'description': 'family name',\n",
       "   'match': {'type': 'label', 'language': 'en', 'text': 'Everest'}}],\n",
       " 'search-continue': 7,\n",
       " 'success': 1}"
      ]
     },
     "execution_count": 30,
     "metadata": {},
     "output_type": "execute_result"
    }
   ],
   "source": [
    "req = requests.get(url,params=params)\n",
    "req.json()"
   ]
  },
  {
   "cell_type": "code",
   "execution_count": null,
   "metadata": {},
   "outputs": [],
   "source": []
  }
 ],
 "metadata": {
  "kernelspec": {
   "display_name": "Python 3",
   "language": "python",
   "name": "python3"
  },
  "language_info": {
   "codemirror_mode": {
    "name": "ipython",
    "version": 3
   },
   "file_extension": ".py",
   "mimetype": "text/x-python",
   "name": "python",
   "nbconvert_exporter": "python",
   "pygments_lexer": "ipython3",
   "version": "3.7.3"
  }
 },
 "nbformat": 4,
 "nbformat_minor": 2
}
